{
 "cells": [
  {
   "cell_type": "markdown",
   "id": "abbe5f5a-2374-461e-a22b-0285a02e13d4",
   "metadata": {},
   "source": [
    "# Samanlikning av Pandas og SQL"
   ]
  },
  {
   "cell_type": "markdown",
   "id": "f75fde80-7519-439e-a8f8-4bc34f32ca66",
   "metadata": {},
   "source": [
    "Importere pandas og numpy"
   ]
  },
  {
   "cell_type": "code",
   "execution_count": null,
   "id": "36ee2a34-5c71-43b2-9c2e-fe5740a1e127",
   "metadata": {},
   "outputs": [],
   "source": [
    "import pandas as pd\n",
    "import numpy as np"
   ]
  },
  {
   "cell_type": "markdown",
   "id": "a6c88077-70fe-4893-90f5-a0d84801651d",
   "metadata": {},
   "source": [
    "Bruker det inkluderte datasettet"
   ]
  },
  {
   "cell_type": "code",
   "execution_count": null,
   "id": "1973b3ea-fc97-4157-9667-599e8121fed1",
   "metadata": {},
   "outputs": [],
   "source": [
    "observations = pd.read_csv(\"data/MMSDB_observations_1995-2019-v2.csv\", delimiter=\"$\")"
   ]
  },
  {
   "cell_type": "code",
   "execution_count": null,
   "id": "c7251c4d-e31e-42cb-a1ad-3d266b17c5f0",
   "metadata": {},
   "outputs": [],
   "source": [
    "observations.columns"
   ]
  },
  {
   "cell_type": "markdown",
   "id": "d0f23274-349c-479b-9713-c4cf4c5e5979",
   "metadata": {},
   "source": [
    "## SELECT"
   ]
  },
  {
   "cell_type": "markdown",
   "id": "c0369589-006e-4717-b980-02975446d99c",
   "metadata": {},
   "source": [
    "```sql\n",
    "select \n",
    "    eventID, \n",
    "    eventDate, \n",
    "    scientificName\n",
    "from observations;\n",
    "```"
   ]
  },
  {
   "cell_type": "markdown",
   "id": "2099e962-ee50-4e2c-bb3b-a3d87f903d3d",
   "metadata": {},
   "source": [
    "I pandas sender ein inn ei liste med kolonner til dataframen:"
   ]
  },
  {
   "cell_type": "code",
   "execution_count": null,
   "id": "7e68150e-5cc4-4f8c-b81c-24c9d5777789",
   "metadata": {},
   "outputs": [],
   "source": [
    "observations[[\"eventID\", \"eventDate\", \"scientificName\"]]"
   ]
  },
  {
   "cell_type": "markdown",
   "id": "928ed1ba-f948-4e2f-a6a7-f21b20024bd5",
   "metadata": {},
   "source": [
    "## WHERE"
   ]
  },
  {
   "cell_type": "markdown",
   "id": "45eaabac-859d-4e2d-a3e1-2ae875e01a12",
   "metadata": {},
   "source": [
    "Filtrering i SQL gjerast ved bruk av `WHERE`:"
   ]
  },
  {
   "cell_type": "markdown",
   "id": "021d43c7-3613-4c97-a1b9-1ea8a4735978",
   "metadata": {},
   "source": [
    "```sql\n",
    "SELECT \n",
    "    *\n",
    "FROM observations\n",
    "WHERE individualCount > 200\n",
    "```"
   ]
  },
  {
   "cell_type": "code",
   "execution_count": null,
   "id": "b1dabc05-2a12-4777-b72c-af7aac120c26",
   "metadata": {},
   "outputs": [],
   "source": [
    "observations[(observations[\"habitat\"] == \"ice\")]"
   ]
  },
  {
   "cell_type": "markdown",
   "id": "5a054bf7-41b5-4c36-8acf-b149b6d99583",
   "metadata": {},
   "source": [
    "Ekvivalent med å sende inn en `Series` med `True`/`False`-verdier, og returner alle radene som evalueres til `True`."
   ]
  },
  {
   "cell_type": "code",
   "execution_count": null,
   "id": "34c8f113-b67d-4a62-a4c9-822efa53cd90",
   "metadata": {},
   "outputs": [],
   "source": [
    "is_ice_habitat = observations[\"habitat\"] == \"ice\"\n",
    "is_ice_habitat"
   ]
  },
  {
   "cell_type": "code",
   "execution_count": null,
   "id": "719d1b2d-7eb5-4fae-98c5-8d4713fab037",
   "metadata": {},
   "outputs": [],
   "source": [
    "is_ice_habitat.value_counts()"
   ]
  },
  {
   "cell_type": "code",
   "execution_count": null,
   "id": "411fd4de-7ec9-48ec-8811-90b0e2d64938",
   "metadata": {},
   "outputs": [],
   "source": [
    "observations[is_ice_habitat]"
   ]
  },
  {
   "cell_type": "markdown",
   "id": "5b61a302-36ca-4057-a5e6-f0f7ff8d1da5",
   "metadata": {},
   "source": [
    "På same måte som i SQL, med `OR` og `AND`, kan fleire betingelsar brukast i pandas ved bruk av `|` (`OR`) og `&` (`AND`)"
   ]
  },
  {
   "cell_type": "markdown",
   "id": "01c431bc-ac7f-41b5-8834-45f80db2a271",
   "metadata": {},
   "source": [
    "```sql\n",
    "SELECT *\n",
    "FROM observations\n",
    "WHERE individualCount > 200 AND habitat = 'ice'\n",
    "```"
   ]
  },
  {
   "cell_type": "code",
   "execution_count": null,
   "id": "bd78eb9d-affc-448b-b4a0-a194033f66f7",
   "metadata": {},
   "outputs": [],
   "source": [
    "observations[(observations[\"individualCount\"] > 200) & (observations[\"habitat\"] == \"ice\")]"
   ]
  },
  {
   "cell_type": "markdown",
   "id": "42e5ffb1-7199-4eeb-8048-996746d72564",
   "metadata": {},
   "source": [
    "`NULL`-verdier kan sjekkes ved bruk av `isna()`, eller `notna()` for det motsatte tilfellet."
   ]
  },
  {
   "cell_type": "code",
   "execution_count": null,
   "id": "9ca6e424-31f2-48b0-aa4d-1c04c7b3e734",
   "metadata": {},
   "outputs": [],
   "source": [
    "observations[observations[\"dynamicProperties.organisation\"].notna()]"
   ]
  },
  {
   "cell_type": "markdown",
   "id": "52d9e1a3-6cd4-4005-8fa8-b6fab4e04c75",
   "metadata": {},
   "source": [
    "Negasjon ved bruk av `~` (`NOT`)"
   ]
  },
  {
   "cell_type": "markdown",
   "id": "3df03771-f4af-4927-941d-2f86454f290c",
   "metadata": {},
   "source": [
    "## GROUP BY"
   ]
  },
  {
   "cell_type": "markdown",
   "id": "a3d3fbd1-8f75-484d-8183-fb13d3978452",
   "metadata": {},
   "source": [
    "Typisk å:\n",
    "1. Splitte datasettet i grupper\n",
    "1. Aggregere ved bruk av ulike funksjonar\n",
    "1. Kombinerer gruppene igjen"
   ]
  },
  {
   "cell_type": "markdown",
   "id": "27ac536f-c1ba-4710-90b5-b4c97c734609",
   "metadata": {},
   "source": [
    "```sql\n",
    "SELECT \n",
    "    scientificName, \n",
    "    count(*)\n",
    "FROM observations\n",
    "GROUP BY scientificName;\n",
    "```"
   ]
  },
  {
   "cell_type": "markdown",
   "id": "88cb9fe2-8328-40d6-8e1a-de2aa1bec96f",
   "metadata": {},
   "source": [
    "Ekvivalent i pandas:"
   ]
  },
  {
   "cell_type": "code",
   "execution_count": null,
   "id": "75d51295-4812-4f2a-827b-711562345891",
   "metadata": {},
   "outputs": [],
   "source": [
    "observations.groupby(\"scientificName\").size()"
   ]
  },
  {
   "cell_type": "markdown",
   "id": "4c5abc1c-3ee4-4aa1-8778-a164e93f4eed",
   "metadata": {},
   "source": [
    "`count()` tar utfører telling på _alle_ kolonner, og returnerer alle rader som er `NOT NULL`."
   ]
  },
  {
   "cell_type": "code",
   "execution_count": null,
   "id": "fee5c444-e93d-44be-9dcc-4afe328fb515",
   "metadata": {},
   "outputs": [],
   "source": [
    "observations.groupby(\"scientificName\").count()"
   ]
  },
  {
   "cell_type": "markdown",
   "id": "6452d3d3-b0dd-46cc-b98a-1399049caaab",
   "metadata": {},
   "source": [
    "Alternativt kan ein utføre aggregeringa på enkelt-kolonner:"
   ]
  },
  {
   "cell_type": "code",
   "execution_count": null,
   "id": "45fad846-1f34-419d-baff-3656d1ea7f3d",
   "metadata": {},
   "outputs": [],
   "source": [
    "observations.groupby(\"scientificName\")[\"eventID\"].count()"
   ]
  },
  {
   "cell_type": "markdown",
   "id": "103a51cd-c5d2-4892-8ade-d070d216d146",
   "metadata": {},
   "source": [
    "Det er òg mogleg å ta i bruk fleire aggregerings-funksjonar samtidig:"
   ]
  },
  {
   "cell_type": "markdown",
   "id": "446e111d-0cb0-4c31-ba22-8fd57bf1b57f",
   "metadata": {},
   "source": [
    "```sql\n",
    "SELECT \n",
    "    scientificName, avg(individualCount), count(*)\n",
    "FROM observations\n",
    "GROUP BY scientificName;\n",
    "```"
   ]
  },
  {
   "cell_type": "code",
   "execution_count": null,
   "id": "7c04a5f5-b15f-4133-bdfb-26a1a5b00949",
   "metadata": {},
   "outputs": [],
   "source": [
    "observations.groupby(\"scientificName\").agg({\n",
    "    \"eventID\": \"count\",\n",
    "    \"individualCount\": \"mean\"\n",
    "})"
   ]
  },
  {
   "cell_type": "markdown",
   "id": "6b5ffacd-d489-48cb-8f55-dae8f29cac87",
   "metadata": {},
   "source": [
    "## JOIN "
   ]
  },
  {
   "cell_type": "code",
   "execution_count": null,
   "id": "298f5ca6-0be7-4dee-b187-f27307285235",
   "metadata": {},
   "outputs": [],
   "source": [
    "animals = pd.read_csv(\"data/animals.csv\")"
   ]
  },
  {
   "cell_type": "markdown",
   "id": "4a0b2c0f-aa87-46fc-a76c-3b5463ec2395",
   "metadata": {},
   "source": [
    "`JOIN` kan bli utført ved `join()` eller `merge()`. I utgangspunktet vil den første joine på indeks. Kan spesifisere join-type (`LEFT`, `RIGHT`, `INNER`, `FULL`), samt kolonnene som er mogleg å joine på."
   ]
  },
  {
   "cell_type": "code",
   "execution_count": null,
   "id": "c693cede-98d8-4510-9401-aa7e381b54f7",
   "metadata": {},
   "outputs": [],
   "source": [
    "observations = pd.merge(observations, animals, on=\"scientificName\")"
   ]
  },
  {
   "cell_type": "markdown",
   "id": "714cff11-6076-44f5-b0bd-9f64a37c2c1a",
   "metadata": {},
   "source": [
    "## UNION"
   ]
  },
  {
   "cell_type": "markdown",
   "id": "0476fa94-3c44-43c5-a508-cb9aef0cf035",
   "metadata": {},
   "source": [
    "`pd.concat([])`"
   ]
  },
  {
   "cell_type": "markdown",
   "id": "b534cd2e-0cd7-4167-a523-194572554aa3",
   "metadata": {},
   "source": [
    "## LIMIT, OFFSET"
   ]
  },
  {
   "cell_type": "markdown",
   "id": "706511a0-6010-4f17-98a9-0f5651ef83e6",
   "metadata": {},
   "source": [
    "```sql\n",
    "SELECT \n",
    "    *\n",
    "FROM observations\n",
    "LIMIT 10;\n",
    "```"
   ]
  },
  {
   "cell_type": "markdown",
   "id": "061a0d48-44a5-4637-a076-56da67317385",
   "metadata": {},
   "source": [
    "Kan bruke `head(n)` for å få top `n` rader"
   ]
  },
  {
   "cell_type": "code",
   "execution_count": null,
   "id": "b12df69e-d797-438d-b679-a834c0ed4317",
   "metadata": {},
   "outputs": [],
   "source": [
    "observations.head(5)"
   ]
  }
 ],
 "metadata": {
  "kernelspec": {
   "display_name": "Python 3 (ipykernel)",
   "language": "python",
   "name": "python3"
  },
  "language_info": {
   "codemirror_mode": {
    "name": "ipython",
    "version": 3
   },
   "file_extension": ".py",
   "mimetype": "text/x-python",
   "name": "python",
   "nbconvert_exporter": "python",
   "pygments_lexer": "ipython3",
   "version": "3.11.6"
  }
 },
 "nbformat": 4,
 "nbformat_minor": 5
}
