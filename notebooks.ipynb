{
 "cells": [
  {
   "cell_type": "markdown",
   "id": "002e0606-b0a8-424f-9e25-85ad936ce522",
   "metadata": {},
   "source": [
    "# Introduksjon til Jupyter Notebooks"
   ]
  },
  {
   "cell_type": "markdown",
   "id": "d347017a-946c-42c1-a955-8085067e69c4",
   "metadata": {},
   "source": [
    "## Notebook?"
   ]
  },
  {
   "cell_type": "markdown",
   "id": "fb82bd68-9d0e-4218-9cc8-362849d47ed8",
   "metadata": {},
   "source": [
    "Verktøy for interaktiv utvikling og presentasjon av data science-prosjekt. Ein notebook integerer kode og output i eitt enkelt for å fasilitere:\n",
    "- Køyring av kode\n",
    "- Skrive ut resultat\n",
    "- Dokumentere undervegs\n",
    "- Visualisere"
   ]
  },
  {
   "cell_type": "markdown",
   "id": "d64608ec-5c02-4c43-bff2-9b953154f244",
   "metadata": {},
   "source": [
    "Namnet kjem frå dei programmeringsspråka som blir støtta, nemleg **Ju**lia, **Py**thon og **R**."
   ]
  },
  {
   "cell_type": "markdown",
   "id": "f953485c-533e-4112-bcbb-8cc980ac8173",
   "metadata": {},
   "source": [
    "- Kernel: \"Motoren\" som køyrer koden i ein notebook.\n",
    "- Celler: Ei \"boks\" for å vise innhald eller kode som skal bli køyrt av ein kernel. "
   ]
  },
  {
   "cell_type": "markdown",
   "id": "012ed10c-b3b1-4466-b76b-e12bfae89ad6",
   "metadata": {},
   "source": [
    "## Køyring av celler "
   ]
  },
  {
   "cell_type": "markdown",
   "id": "92abde6f-f629-4035-94cc-e9cbcdc38064",
   "metadata": {},
   "source": [
    "Består av blokker av celler. Når ein køyrer ei celle, vil innhaldet i cella i evaluert, om det så er markdown eller Python."
   ]
  },
  {
   "cell_type": "code",
   "execution_count": 8,
   "id": "439c1e87-5540-4cb4-8c31-6a06b02a4151",
   "metadata": {},
   "outputs": [
    {
     "name": "stdout",
     "output_type": "stream",
     "text": [
      "Hello world!\n"
     ]
    }
   ],
   "source": [
    "print(\"Hello world!\")"
   ]
  },
  {
   "cell_type": "markdown",
   "id": "171f7bf4-7c20-4943-8b47-8d75dff03c55",
   "metadata": {},
   "source": [
    "`Ctrl+Enter` køyrer den cella du er inne i, og `Shift+Enter` gjer det same i tillegg til at du går vidara til neste celle."
   ]
  },
  {
   "cell_type": "markdown",
   "id": "f53ded7c-918a-4310-8343-ceec6457792f",
   "metadata": {},
   "source": [
    "Dette gjer at ein manuelt kan køyre ein notebook ved å køyre celler og gå vidare. Importerte pakker, modular og variablar blir delt på tvers av celler."
   ]
  },
  {
   "cell_type": "code",
   "execution_count": 28,
   "id": "eac5b6a7-9813-4788-a0aa-5245308b5195",
   "metadata": {},
   "outputs": [],
   "source": [
    "x = 3"
   ]
  },
  {
   "cell_type": "code",
   "execution_count": 30,
   "id": "70a51d6d-b135-41bd-acfa-cda96e560cc1",
   "metadata": {},
   "outputs": [
    {
     "name": "stdout",
     "output_type": "stream",
     "text": [
      "3\n"
     ]
    }
   ],
   "source": [
    "print(x)"
   ]
  },
  {
   "cell_type": "markdown",
   "id": "ab38c894-75f2-4207-b4c6-f956965ff2ac",
   "metadata": {
    "jupyter": {
     "source_hidden": true
    }
   },
   "source": [
    "Nummeret til venstre for celler indikerer rekkefølgja cellene blei køyrte i. "
   ]
  },
  {
   "cell_type": "markdown",
   "id": "3daf73ae-32c1-4bef-b954-19bce60e70eb",
   "metadata": {},
   "source": [
    "## Menyane"
   ]
  },
  {
   "cell_type": "markdown",
   "id": "46711141-d5f0-485f-9eaa-fa498f0b395f",
   "metadata": {},
   "source": [
    "Liste over tilgjengelege menyar:\n",
    "- File\n",
    "- Edit\n",
    "- View\n",
    "- Run\n",
    "- Kernel\n",
    "- Tabs\n",
    "- Settings\n",
    "- Help"
   ]
  },
  {
   "cell_type": "markdown",
   "id": "fc1a0328-625e-4473-91ee-725e5e4d286d",
   "metadata": {},
   "source": [
    "Ein kan spare mykje tid på å lære seg nokre hendige snarvegar."
   ]
  },
  {
   "cell_type": "markdown",
   "id": "272e3c81-da06-4b66-8b4c-7148f00a6ec3",
   "metadata": {},
   "source": [
    "## Markdown"
   ]
  },
  {
   "cell_type": "markdown",
   "id": "ec1e117d-c183-44f7-a895-cc76aa3bec5e",
   "metadata": {},
   "source": [
    "Markdown er eit supersett av HTML, altså eit markeringsspråk for å enkelt legge til formatterings-element i tekst."
   ]
  },
  {
   "cell_type": "markdown",
   "id": "26c71fa1-26bd-4533-b36c-39e6f6daebd4",
   "metadata": {},
   "source": [
    "### Syntaks"
   ]
  },
  {
   "cell_type": "markdown",
   "id": "61f31204-e9b2-4b0d-860f-39f5e9417ac6",
   "metadata": {},
   "source": [
    "Delkapittel:\n",
    "```\n",
    "# H1\n",
    "## H2\n",
    "### H3\n",
    "```\n",
    "\n",
    "`**tjukk skrift**` -> **tjukk skrift** \n",
    "\n",
    "`*kursiv tekst*` -> *kursiv tekst*\n",
    "\n",
    "Ordna liste:\n",
    "```\n",
    "1. Første ting\n",
    "1. Andre ting\n",
    "1. Tredje ting\n",
    "```\n",
    "1. Første ting\n",
    "1. Andre ting\n",
    "1. Tredje ting\n",
    "\n",
    "Uordna liste:\n",
    "```\n",
    "- Ting 1\n",
    "- Ting 2\n",
    "- Ting 3\n",
    "```\n",
    "- Ting 1\n",
    "- Ting 2\n",
    "- Ting 3\n",
    "\n",
    "Kodesnutt:\n",
    "```\n",
    "`code`\n",
    "```\n",
    "`code`\n",
    "\n",
    "Lenke:\n",
    "`[twoday NO](https://twoday.no)` -> [twoday NO](https://twoday.no)"
   ]
  },
  {
   "cell_type": "markdown",
   "id": "25a00879-47f5-47f1-b066-9d1cba785d53",
   "metadata": {},
   "source": [
    "### Meir syntaks"
   ]
  },
  {
   "cell_type": "markdown",
   "id": "b6932366-af44-4a5d-a298-9a35e173740c",
   "metadata": {},
   "source": [
    "Tabell:\n",
    "```\n",
    "| Kolonne 1 | Kolonne 2 |\n",
    "| ----------- | ----------- |\n",
    "| 11 | 22 |\n",
    "| 33 | 44 | \n",
    "```\n",
    "| Kolonne 1 | Kolonne 2 |\n",
    "| ----------- | ----------- |\n",
    "| 11 | 22 |\n",
    "| 33 | 44 |\n",
    "\n",
    "Kodeblokk:\n",
    "```\n",
    "```\n",
    "x = 3\n",
    "\n",
    "print(x)\n",
    "```\n",
    "```\n",
    "\n",
    "```\n",
    "x = 3\n",
    "print(x)\n",
    "```"
   ]
  },
  {
   "cell_type": "markdown",
   "id": "39d4afa5-2ac1-4d28-85ce-861ab209d46c",
   "metadata": {},
   "source": [
    "## Eksempel: Visualisering"
   ]
  },
  {
   "cell_type": "markdown",
   "id": "24979e56-6e27-4d2b-a3dd-7c9d7bb7c597",
   "metadata": {},
   "source": [
    "God praksis å importere pakkene heilt på toppen, men la gå!"
   ]
  },
  {
   "cell_type": "code",
   "execution_count": null,
   "id": "bedec814-2423-4d09-9c64-6863c31b85c9",
   "metadata": {},
   "outputs": [],
   "source": [
    "from matplotlib import pyplot as plt\n",
    "import numpy as np"
   ]
  },
  {
   "cell_type": "markdown",
   "id": "14d49e34-0103-4472-ae10-460780b30e1f",
   "metadata": {},
   "source": [
    "Generer 100 tilfeldige datapunkt i tre dimensjonar:"
   ]
  },
  {
   "cell_type": "code",
   "execution_count": 25,
   "id": "0de385cf-e83e-4957-a7da-07818f1dec80",
   "metadata": {},
   "outputs": [],
   "source": [
    "x, y, scale = np.random.randn(3, 100)"
   ]
  },
  {
   "cell_type": "markdown",
   "id": "a3a1e596-e414-4447-b100-e3e2e2b53d94",
   "metadata": {},
   "source": [
    "Scatter-plot med datapunkta:"
   ]
  },
  {
   "cell_type": "code",
   "execution_count": 26,
   "id": "91c0cf96-200c-4749-a29a-0bc3fcaccb70",
   "metadata": {
    "scrolled": true
   },
   "outputs": [
    {
     "data": {
      "image/png": "[encoded data removed]",
      "text/plain": [
       "<Figure size 640x480 with 1 Axes>"
      ]
     },
     "metadata": {},
     "output_type": "display_data"
    }
   ],
   "source": [
    "fig, ax = plt.subplots()\n",
    "ax.scatter(x=x, y=y, c=scale, s=np.abs(scale)*500)\n",
    "ax.set(title=\"Tilfeldige datapunkt!\")\n",
    "plt.show()"
   ]
  },
  {
   "cell_type": "markdown",
   "id": "494a3bfa-b200-494c-8ec2-2301b347f6c3",
   "metadata": {},
   "source": [
    "## Kernels"
   ]
  },
  {
   "cell_type": "markdown",
   "id": "afcdbca2-fec6-4844-94cd-7e589e80a086",
   "metadata": {},
   "source": [
    "Bak kvar notebook finst det ein kernel. Så lenge serveren til notebooken køyrer, vil tilstanden til alle cellene i notebooken bli tatt vare på."
   ]
  }
 ],
 "metadata": {
  "kernelspec": {
   "display_name": "Python 3 (ipykernel)",
   "language": "python",
   "name": "python3"
  },
  "language_info": {
   "codemirror_mode": {
    "name": "ipython",
    "version": 3
   },
   "file_extension": ".py",
   "mimetype": "text/x-python",
   "name": "python",
   "nbconvert_exporter": "python",
   "pygments_lexer": "ipython3",
   "version": "3.11.6"
  }
 },
 "nbformat": 4,
 "nbformat_minor": 5
}
