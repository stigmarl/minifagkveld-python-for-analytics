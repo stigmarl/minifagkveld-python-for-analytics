{
 "cells": [
  {
   "cell_type": "markdown",
   "id": "f06e85cf-6385-409f-a9b1-6233aad0263f",
   "metadata": {},
   "source": [
    "# Leikecase: Norske namn"
   ]
  },
  {
   "cell_type": "markdown",
   "id": "88907a2d-f4c9-4d0a-aed7-3d91298f5cfe",
   "metadata": {},
   "source": [
    "## Bakgrunn"
   ]
  },
  {
   "cell_type": "markdown",
   "id": "dacaf799-7fb6-42f7-a01d-663ef9da7e3f",
   "metadata": {},
   "source": [
    "SSB har datagrunnlag for [10467: Fødte, etter jentenavn og guttenavn 1880 - 2022 ](https://www.ssb.no/statbank/table/10467/)\n",
    "Tabellen inneheld namn over alle personar som er folkeregisterte i Noreg.\n",
    "Dersom det er mindre enn fire personar med eit namn eitt gitt år, så vil det visast som ein tom verdi i dataen."
   ]
  },
  {
   "cell_type": "markdown",
   "id": "742e461b-fd4e-4180-b21c-5142ba20bbee",
   "metadata": {},
   "source": [
    "SSB har rota mase med \"Unorske\" teikn, og har difor erstatta\n",
    "- È med E\n",
    "- É med E\n",
    "- Ô med O\n",
    "- ' med blank\n",
    "- Ä med Æ\n",
    "- Ü med Y\n",
    "- Ö med Ø\n",
    "\n",
    "Eksempelvis består 5449 ANDRE av \n",
    "- 1831 André\n",
    "- 72 Andrè\n",
    "- 13 Andre'"
   ]
  },
  {
   "cell_type": "markdown",
   "id": "e5cb08d2-12f7-4b43-b65a-3e9957f3b0db",
   "metadata": {},
   "source": [
    "Spørsmål som kan bli besvarte:\n",
    "- Trender på ulike namn over tid\n",
    "- Rangering av popularitet\n",
    "- Mest populære namn per år, eller namn som er endra seg mest i popularitet "
   ]
  },
  {
   "cell_type": "markdown",
   "id": "641756e0-549f-449c-9a06-967cd2d90908",
   "metadata": {},
   "source": [
    "## Kode"
   ]
  },
  {
   "cell_type": "code",
   "execution_count": null,
   "id": "7fb02af1-f3c4-428f-b7cc-ca69f332ea68",
   "metadata": {},
   "outputs": [],
   "source": [
    "import json\n",
    "import requests\n",
    "import pandas as pd\n",
    "import matplotlib.pyplot as plt"
   ]
  },
  {
   "cell_type": "code",
   "execution_count": null,
   "id": "44aee8e5-d932-496b-9147-918d913e8f4a",
   "metadata": {},
   "outputs": [],
   "source": [
    "def get_ssb_data(p: str):\n",
    "    url = \"https://data.ssb.no/api/v0/no/table/10467/\"\n",
    "    with open(f\"data/ssb_query_{p}.json\") as f:\n",
    "        payload = json.dumps(json.load(f))\n",
    "    \n",
    "    headers = {\n",
    "      'Content-Type': 'application/json',\n",
    "    }\n",
    "    \n",
    "    response = requests.request(\"POST\", url, headers=headers, data=payload)\n",
    "    return response.json()"
   ]
  },
  {
   "cell_type": "code",
   "execution_count": null,
   "id": "e9691cd1-6e3a-4c44-8cd0-3621b46f7639",
   "metadata": {},
   "outputs": [],
   "source": [
    "def json_to_records(j):\n",
    "    navneliste = list(j[\"dimension\"][\"Fornavn\"][\"category\"][\"label\"].values())\n",
    "    årsliste = list(j[\"dimension\"][\"Tid\"][\"category\"][\"index\"].keys())\n",
    "\n",
    "    data = []\n",
    "    i = 0\n",
    "    for idx_navn, navn in enumerate(navneliste):\n",
    "        for idx_år, år in enumerate(årsliste):\n",
    "            data.append({\n",
    "                \"År\": år,\n",
    "                \"Navn\": navn,\n",
    "                \"Fødte\": j[\"value\"][i]\n",
    "            })\n",
    "            i += 1\n",
    "\n",
    "    return data"
   ]
  },
  {
   "cell_type": "markdown",
   "id": "72009072-2303-45eb-b7d2-8b529511e746",
   "metadata": {},
   "source": [
    "### Hent navn gutter fra SSB"
   ]
  },
  {
   "cell_type": "code",
   "execution_count": null,
   "id": "70929e74-d650-408b-b609-ed0b5f9722d9",
   "metadata": {},
   "outputs": [],
   "source": [
    "g = get_ssb_data(\"gutter\")\n",
    "g_data = json_to_records(g)\n",
    "df_g = pd.DataFrame.from_records(g_data)\n",
    "df_g[\"Type\"] = \"G\"\n",
    "df_g.fillna(0, inplace=True)"
   ]
  },
  {
   "cell_type": "markdown",
   "id": "b7a570e1-7736-423c-992e-60e32d39eb4f",
   "metadata": {},
   "source": [
    "### Hent navn for jenter fra SSB"
   ]
  },
  {
   "cell_type": "code",
   "execution_count": null,
   "id": "e895dce1-f638-4540-9b3a-349ea6e318d1",
   "metadata": {},
   "outputs": [],
   "source": [
    "j = get_ssb_data(\"jenter\")"
   ]
  },
  {
   "cell_type": "code",
   "execution_count": null,
   "id": "433aa342-7251-4bc2-b434-c9ac3e95c780",
   "metadata": {},
   "outputs": [],
   "source": [
    "j_data = json_to_records(j)\n",
    "df_j = pd.DataFrame.from_records(j_data)\n",
    "df_j[\"Type\"] = \"J\"\n",
    "df_j.fillna(0, inplace=True)"
   ]
  },
  {
   "cell_type": "code",
   "execution_count": null,
   "id": "effcc7b2-f3f2-4e8e-8c3a-222e85844164",
   "metadata": {},
   "outputs": [],
   "source": [
    "df = pd.concat([df_j, df_g])\n",
    "df[\"År\"] = df[\"År\"].astype(pd.Int64Dtype())"
   ]
  },
  {
   "cell_type": "code",
   "execution_count": null,
   "id": "5d6fef28-b559-4432-a8c0-709bf5746406",
   "metadata": {},
   "outputs": [],
   "source": [
    "total_births = df.pivot_table(\"Fødte\", index=\"År\", columns=\"Type\", aggfunc=\"sum\")"
   ]
  },
  {
   "cell_type": "code",
   "execution_count": null,
   "id": "3116a497-c7f3-44e3-b208-74eb70aecec2",
   "metadata": {},
   "outputs": [],
   "source": [
    "total_births.plot()"
   ]
  },
  {
   "cell_type": "code",
   "execution_count": null,
   "id": "9ecf9c05-042b-4534-826f-c66fadee7d39",
   "metadata": {},
   "outputs": [],
   "source": [
    "df = df[df[\"År\"] >= 1945]"
   ]
  },
  {
   "cell_type": "code",
   "execution_count": null,
   "id": "a0adce09-86c8-4c9d-bb1e-76d5e8d3af30",
   "metadata": {},
   "outputs": [],
   "source": [
    "def add_andel(group):\n",
    "    group[\"andel\"] = group[\"Fødte\"] / group[\"Fødte\"].sum()\n",
    "    return group"
   ]
  },
  {
   "cell_type": "code",
   "execution_count": null,
   "id": "b57b2263-5837-4f8b-a5a6-5b1ad0fc73d0",
   "metadata": {},
   "outputs": [],
   "source": [
    "df = df.groupby([\"År\", \"Type\"], group_keys=False).apply(add_andel)"
   ]
  },
  {
   "cell_type": "code",
   "execution_count": null,
   "id": "dd1cea74-e577-4e07-b6b6-f857d73ef88e",
   "metadata": {},
   "outputs": [],
   "source": [
    "df[df[\"Navn\"] == \"Aagot\"]"
   ]
  },
  {
   "cell_type": "code",
   "execution_count": null,
   "id": "4352639b-7415-4696-a501-54301cdf6735",
   "metadata": {},
   "outputs": [],
   "source": [
    "df.groupby([\"År\", \"Type\"])[\"andel\"].sum()"
   ]
  },
  {
   "cell_type": "code",
   "execution_count": null,
   "id": "b3c2324e-00c9-4a64-a346-625b7e9bce65",
   "metadata": {},
   "outputs": [],
   "source": [
    "def get_top100(group):\n",
    "    return group.sort_values(\"Fødte\", ascending=False)[:100]"
   ]
  },
  {
   "cell_type": "code",
   "execution_count": null,
   "id": "464cf6bf-a4fe-4a71-a923-df87d0a065f7",
   "metadata": {},
   "outputs": [],
   "source": [
    "top100 = df.groupby([\"År\", \"Type\"]).apply(get_top100).reset_index(drop=True)"
   ]
  },
  {
   "cell_type": "code",
   "execution_count": null,
   "id": "36eebda1-79fd-4b19-86ee-56ea4ae91049",
   "metadata": {},
   "outputs": [],
   "source": [
    "top100.head()"
   ]
  },
  {
   "cell_type": "code",
   "execution_count": null,
   "id": "0cea437c-c6fd-402f-9b71-d70892d926bb",
   "metadata": {},
   "outputs": [],
   "source": [
    "total_births = top100.pivot_table(\"Fødte\", index=\"År\", columns=\"Navn\", aggfunc=\"sum\").fillna(0)\n",
    "total_andel = top100.pivot_table(\"andel\", index=\"År\", columns=\"Navn\", aggfunc=\"sum\").fillna(0)"
   ]
  },
  {
   "cell_type": "code",
   "execution_count": null,
   "id": "70122ce2-8bb4-4f02-b8a5-3df127704d52",
   "metadata": {},
   "outputs": [],
   "source": [
    "total_births.info()"
   ]
  },
  {
   "cell_type": "code",
   "execution_count": null,
   "id": "82343dd4-6a94-4a4e-abdb-35e1285a19a9",
   "metadata": {},
   "outputs": [],
   "source": [
    "total_births.head()"
   ]
  },
  {
   "cell_type": "code",
   "execution_count": null,
   "id": "8440dc46-4ff4-442d-8540-425df6981505",
   "metadata": {},
   "outputs": [],
   "source": [
    "subset = total_births[[\"Silje\", \"Camilla\", \"Espen\"]]"
   ]
  },
  {
   "cell_type": "code",
   "execution_count": null,
   "id": "124d776c-ca2d-403c-a59b-6cd327b0bf4e",
   "metadata": {},
   "outputs": [],
   "source": [
    "subset.plot() "
   ]
  },
  {
   "cell_type": "code",
   "execution_count": null,
   "id": "9d615be8-4b70-4265-ab6b-874758816c54",
   "metadata": {},
   "outputs": [],
   "source": [
    "t = top100.pivot_table(\"andel\", index=\"År\", columns=\"Type\", aggfunc=\"sum\")"
   ]
  },
  {
   "cell_type": "code",
   "execution_count": null,
   "id": "64233e44-369e-444f-84a9-a0d5a4bcae16",
   "metadata": {},
   "outputs": [],
   "source": [
    "t"
   ]
  },
  {
   "cell_type": "code",
   "execution_count": null,
   "id": "67ab47df-d11a-4fca-8e77-90ed87251a83",
   "metadata": {},
   "outputs": [],
   "source": [
    "t.plot()"
   ]
  },
  {
   "cell_type": "markdown",
   "id": "3ec16c60-0105-4482-9f75-b75fa38b86e4",
   "metadata": {},
   "source": [
    "Kor mange distinkte namn i topp 50%?"
   ]
  },
  {
   "cell_type": "code",
   "execution_count": null,
   "id": "106fa36a-2236-401c-9bf5-8b35203bab2d",
   "metadata": {},
   "outputs": [],
   "source": [
    "boys = df[df[\"Type\"] == \"G\"]"
   ]
  },
  {
   "cell_type": "code",
   "execution_count": null,
   "id": "fd7ac92a-6dc4-4875-8978-8d9e83db7930",
   "metadata": {},
   "outputs": [],
   "source": [
    "df_1950_boys = boys[boys[\"År\"] == 1950]"
   ]
  },
  {
   "cell_type": "code",
   "execution_count": null,
   "id": "6f434dd0-afc4-4dee-8b40-b1b66f8b39bd",
   "metadata": {},
   "outputs": [],
   "source": [
    "andel_1950_boys = df_1950_boys[\"andel\"].sort_values(ascending=False).cumsum()"
   ]
  },
  {
   "cell_type": "code",
   "execution_count": null,
   "id": "a49a7ac5-7f38-4e41-9842-385cbdf79258",
   "metadata": {},
   "outputs": [],
   "source": [
    "andel_1950_boys.searchsorted(0.5) + 1"
   ]
  },
  {
   "cell_type": "code",
   "execution_count": null,
   "id": "fbf2446a-0d7b-4b55-9e9c-471c4efa7e42",
   "metadata": {},
   "outputs": [],
   "source": [
    "df_2022_boys = boys[boys[\"År\"] == 2022]"
   ]
  },
  {
   "cell_type": "code",
   "execution_count": null,
   "id": "b5ae6bcd-7069-40b5-8614-ad80afaa52a5",
   "metadata": {},
   "outputs": [],
   "source": [
    "andel_2022_boys = df_2022_boys[\"andel\"].sort_values(ascending=False).cumsum()"
   ]
  },
  {
   "cell_type": "code",
   "execution_count": null,
   "id": "f522fa46-3469-4163-b47f-f06dde4d4dd2",
   "metadata": {},
   "outputs": [],
   "source": [
    "andel_2022_boys.searchsorted(0.5) + 1"
   ]
  },
  {
   "cell_type": "code",
   "execution_count": null,
   "id": "85167f7c-cb24-48cc-8474-ab8b45784a2d",
   "metadata": {},
   "outputs": [],
   "source": [
    "def get_quantile_count(group, q=0.5):\n",
    "    group = group.sort_values(\"andel\", ascending=False)\n",
    "    return group[\"andel\"].cumsum().searchsorted(q) + 1"
   ]
  },
  {
   "cell_type": "code",
   "execution_count": null,
   "id": "33d930e0-9f10-45af-97c5-ab891c0520f8",
   "metadata": {},
   "outputs": [],
   "source": [
    "mangfold = df.groupby([\"År\", \"Type\"]).apply(get_quantile_count)"
   ]
  },
  {
   "cell_type": "code",
   "execution_count": null,
   "id": "fb289299-9731-42b2-a7c1-f107ce49d13e",
   "metadata": {},
   "outputs": [],
   "source": [
    "mangfold = mangfold.unstack()"
   ]
  },
  {
   "cell_type": "code",
   "execution_count": null,
   "id": "7b3ae557-17ae-451f-a847-7802d87d4fac",
   "metadata": {},
   "outputs": [],
   "source": [
    "mangfold.plot()"
   ]
  },
  {
   "cell_type": "markdown",
   "id": "7460bf34-092b-4167-bfec-1148f8184ff0",
   "metadata": {},
   "source": [
    "## Endring over tid"
   ]
  },
  {
   "cell_type": "code",
   "execution_count": null,
   "id": "69f7e54d-b0f9-4b4c-a9ec-d27296cf6b00",
   "metadata": {},
   "outputs": [],
   "source": [
    "def add_delta(group):\n",
    "    group[\"delta\"] = group[\"Fødte\"] - group[\"Fødte\"].shift()\n",
    "    return group"
   ]
  },
  {
   "cell_type": "code",
   "execution_count": null,
   "id": "f1096983-aa87-4e94-8cf6-bb76998c9761",
   "metadata": {},
   "outputs": [],
   "source": [
    "df_delta = df.groupby([\"Navn\"], group_keys=False).apply(add_delta)"
   ]
  },
  {
   "cell_type": "code",
   "execution_count": null,
   "id": "b673369f-a801-4dc3-afb4-f085435a63f3",
   "metadata": {},
   "outputs": [],
   "source": [
    "df_delta[df_delta[\"Navn\"] == \"Aage\"].plot(x=\"År\", y=\"delta\", kind=\"bar\")"
   ]
  },
  {
   "cell_type": "markdown",
   "id": "033c9cf1-15b8-4598-8df0-ca48f44d91c4",
   "metadata": {},
   "source": [
    "## Endring i første bokstav"
   ]
  },
  {
   "cell_type": "code",
   "execution_count": null,
   "id": "f9a0640e-4114-488b-8fda-e4a7acbdea0e",
   "metadata": {},
   "outputs": [],
   "source": [
    "first_letters = df[\"Navn\"].map(lambda n: n[0])\n",
    "first_letters.name = \"first_letter\"\n",
    "first_letters"
   ]
  },
  {
   "cell_type": "code",
   "execution_count": null,
   "id": "df52cd7b-d1e2-4763-ad76-fcc0f6f66368",
   "metadata": {},
   "outputs": [],
   "source": [
    "table = df.pivot_table(\"Fødte\", index=first_letters, columns=[\"Type\", \"År\"], aggfunc=\"sum\")"
   ]
  },
  {
   "cell_type": "code",
   "execution_count": null,
   "id": "8faec9cc-1471-48cf-a740-f98ef9f0e0c0",
   "metadata": {},
   "outputs": [],
   "source": [
    "subtable = table.reindex(columns=[1980, 2000, 2020], level=\"År\")"
   ]
  },
  {
   "cell_type": "code",
   "execution_count": null,
   "id": "e0e92f44-c5af-449e-83a8-0eb93ed3c5d1",
   "metadata": {},
   "outputs": [],
   "source": [
    "letter_prop = subtable / subtable.sum()"
   ]
  },
  {
   "cell_type": "code",
   "execution_count": null,
   "id": "7f4e1248-e43b-4ee8-a537-f4789f79610d",
   "metadata": {},
   "outputs": [],
   "source": [
    "fig, axes = plt.subplots(2, 1, figsize=(10, 8))\n",
    "letter_prop[\"G\"].plot(kind=\"bar\", rot=0, ax=axes[0], title=\"G\")\n",
    "letter_prop[\"J\"].plot(kind=\"bar\", rot=0, ax=axes[1], title=\"J\",\n",
    "                      legend=False)"
   ]
  }
 ],
 "metadata": {
  "kernelspec": {
   "display_name": "Python 3 (ipykernel)",
   "language": "python",
   "name": "python3"
  },
  "language_info": {
   "codemirror_mode": {
    "name": "ipython",
    "version": 3
   },
   "file_extension": ".py",
   "mimetype": "text/x-python",
   "name": "python",
   "nbconvert_exporter": "python",
   "pygments_lexer": "ipython3",
   "version": "3.11.6"
  }
 },
 "nbformat": 4,
 "nbformat_minor": 5
}
