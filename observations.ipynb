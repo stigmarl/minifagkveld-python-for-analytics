{
 "cells": [
  {
   "cell_type": "markdown",
   "id": "88ad826b-3fce-43e6-b5b9-42383736e532",
   "metadata": {},
   "source": [
    "# Leikecase"
   ]
  },
  {
   "cell_type": "markdown",
   "id": "c526331e-d44d-4cfa-9f85-cf4fc6a8c234",
   "metadata": {},
   "source": [
    "Datasett: *Marine Mammals Sightings in and around Svalbard 1995-2019*\n",
    "Inneheld rapporterte observasjoner av marine pattedyr på og rundt Svalbard i tidsperioden 1995-2019. Dataen består av tidspunkt, lokasjon, art og antall individ observert."
   ]
  },
  {
   "cell_type": "markdown",
   "id": "94e68ab9-7f08-4bf7-ac6d-b9417772e5f4",
   "metadata": {},
   "source": [
    "Kolonne | Forklaring\n",
    "-- |-- \n",
    "eventID | Unik identifikator\n",
    "coordinateUncertaintyInMeters | Usikkerheit i koordinatane\n",
    "decimalLatitude | Breddegrad i WGS-84. -90.0 til 90.0\n",
    "decimalLongitude | Lengegrad i WGS-84. -180.0 til 180.0\n",
    "scientificName | Artsnamn på latinsk\n",
    "eventDate | Tidspunkt for observasjonen.\n",
    "individualCount | Antall individ observert"
   ]
  },
  {
   "cell_type": "code",
   "execution_count": null,
   "id": "a75b616e-ac1a-4dc0-88ec-05bac1bfa69a",
   "metadata": {},
   "outputs": [],
   "source": [
    "import pandas as pd\n",
    "import numpy as np"
   ]
  },
  {
   "cell_type": "code",
   "execution_count": null,
   "id": "99f070c6-75cc-4de8-89a7-e506504bd9ca",
   "metadata": {},
   "outputs": [],
   "source": [
    "# Tving pandas til å vise alle kolonnene i output\n",
    "pd.set_option('display.max_columns', None)"
   ]
  },
  {
   "cell_type": "markdown",
   "id": "8874d8db-ed3d-4097-9b2e-75f202493949",
   "metadata": {},
   "source": [
    "## Hente data"
   ]
  },
  {
   "cell_type": "markdown",
   "id": "e57158a4-ba0f-4d12-81dc-c0e474bc8477",
   "metadata": {},
   "source": [
    "Mål:\n",
    "- Laste inn CSV for observasjonar\n",
    "- Laste inn CSV for artsnamn på norsk"
   ]
  },
  {
   "cell_type": "code",
   "execution_count": null,
   "id": "e2578342-fbb4-4765-8914-ce2e0dfb4429",
   "metadata": {},
   "outputs": [],
   "source": [
    "observations = pd.read_csv(\"data/MMSDB_observations_1995-2019-v2.csv\", delimiter=\"$\")\n",
    "animals = pd.read_csv(\"data/animals.csv\")"
   ]
  },
  {
   "cell_type": "markdown",
   "id": "b1e9feb9-d871-496f-9136-5f98e79b4975",
   "metadata": {},
   "source": [
    "Oppgåver:\n",
    "- Kor mange observasjonar har det blitt gjort totalt?\n",
    "- Kor mange ulike arter har det blitt rapportert observasjonar på?"
   ]
  },
  {
   "cell_type": "code",
   "execution_count": null,
   "id": "b4c6fe46-10db-486e-bb66-695680a6777e",
   "metadata": {},
   "outputs": [],
   "source": [
    "observations.info()"
   ]
  },
  {
   "cell_type": "code",
   "execution_count": null,
   "id": "17d1d248-923b-4d16-b426-64d0286e9033",
   "metadata": {},
   "outputs": [],
   "source": [
    "observations[\"scientificName\"].unique()"
   ]
  },
  {
   "cell_type": "code",
   "execution_count": null,
   "id": "f7d97ff4-36e5-47be-8f6c-0091c1c6fdda",
   "metadata": {},
   "outputs": [],
   "source": [
    "animals.head()"
   ]
  },
  {
   "cell_type": "markdown",
   "id": "65586749-802c-4660-93d2-34cc0b4d43d4",
   "metadata": {},
   "source": [
    "## Rense og forberede data"
   ]
  },
  {
   "cell_type": "markdown",
   "id": "1664f5d6-a0a2-4d5c-bba4-c20e4f171304",
   "metadata": {},
   "source": [
    "Mål:\n",
    "- Fjerne alle rader utan koordinatar eller observasjonstidspunkt\n",
    "- Parse tidspunkt til pandas.Timestamp\n",
    "- Joine inn norske namn til observasjonane\n",
    "- Opprett ein dataframe som kun ser på isbjørnar"
   ]
  },
  {
   "cell_type": "code",
   "execution_count": null,
   "id": "cd111fc5-5220-4876-ab4a-3f9c05c3bab4",
   "metadata": {},
   "outputs": [],
   "source": [
    "observations = observations[\n",
    "    (~observations[\"eventDate\"].isna())\n",
    "    & (~observations[\"decimalLongitude\"].isna())\n",
    "    & (~observations[\"decimalLatitude\"].isna())\n",
    "]"
   ]
  },
  {
   "cell_type": "code",
   "execution_count": null,
   "id": "edd94b9d-a3ff-40c3-9ffa-b07ed7b8a9db",
   "metadata": {},
   "outputs": [],
   "source": [
    "observations = pd.merge(observations, animals, on=\"scientificName\")"
   ]
  },
  {
   "cell_type": "code",
   "execution_count": null,
   "id": "758b77f1-1225-437a-947a-56ea8821d83e",
   "metadata": {},
   "outputs": [],
   "source": [
    "observations.columns"
   ]
  },
  {
   "cell_type": "code",
   "execution_count": null,
   "id": "42166185-aa29-44f6-af14-95447fe4faf0",
   "metadata": {},
   "outputs": [],
   "source": [
    "observations.describe()"
   ]
  },
  {
   "cell_type": "code",
   "execution_count": null,
   "id": "987eb07d-991d-4562-b0d9-68882f82cbc7",
   "metadata": {},
   "outputs": [],
   "source": [
    "observations[\"timestamp\"] = observations[\"eventDate\"].apply(lambda ed: pd.Timestamp(ed))"
   ]
  },
  {
   "cell_type": "code",
   "execution_count": null,
   "id": "cd8eb27c-c0eb-41af-a43c-bde56beea7c9",
   "metadata": {},
   "outputs": [],
   "source": [
    "observations.head()"
   ]
  },
  {
   "cell_type": "markdown",
   "id": "7f0dc334-f5b2-4e11-9e10-f118ac255f3e",
   "metadata": {},
   "source": [
    "## Transformere data"
   ]
  },
  {
   "cell_type": "markdown",
   "id": "e195d6bd-369d-43f2-8e5d-087e243b6eb2",
   "metadata": {},
   "source": [
    "- Opprett ei ny kolonne \"year\" basert på tidspunkt\n",
    "- Lag ein ny dataframe som er aggregert per art og år.\n",
    "- Per gruppe:\n",
    "    - Summer opp totalt antall individ\n",
    "    - Tell opp kor mange observasjonar som har blitt gjort"
   ]
  },
  {
   "cell_type": "code",
   "execution_count": null,
   "id": "961fccb9-65fb-426f-bc95-60cf110f3f4a",
   "metadata": {},
   "outputs": [],
   "source": [
    "observations[\"year\"] = observations[\"timestamp\"].apply(lambda t: t.year)\n",
    "observations = observations[\n",
    "    (observations[\"year\"] >= 1995) &\n",
    "    (observations[\"year\"] <= 2019)\n",
    "]\n",
    "observations_isbjørn = observations[observations[\"norwegianName\"] == \"Isbjørn\"]"
   ]
  },
  {
   "cell_type": "code",
   "execution_count": null,
   "id": "9ffa81ce-759e-4897-9f52-4e8943ae38fc",
   "metadata": {},
   "outputs": [],
   "source": [
    "observations_isbjørn_grouped = observations_isbjørn.groupby([\"norwegianName\", \"year\"]).agg(\n",
    "    total_individuals=(\"individualCount\", np.sum),\n",
    "    num_sightings=(\"eventID\", np.count_nonzero)\n",
    ").reset_index().sort_values(by=[\"norwegianName\", \"year\"], ascending=True)"
   ]
  },
  {
   "cell_type": "code",
   "execution_count": null,
   "id": "0c84d51c-169d-41c6-aa60-a0ce28c05042",
   "metadata": {},
   "outputs": [],
   "source": [
    "observations_isbjørn_grouped"
   ]
  },
  {
   "cell_type": "code",
   "execution_count": null,
   "id": "ba04d189-4714-46fa-827c-3f4fd96ff1ab",
   "metadata": {},
   "outputs": [],
   "source": [
    "observations_piv = observations.pivot_table(\n",
    "    \"individualCount\", \n",
    "    index=\"year\", \n",
    "    columns=\"norwegianName\", \n",
    "    aggfunc=\"sum\"\n",
    ")"
   ]
  },
  {
   "cell_type": "code",
   "execution_count": null,
   "id": "377d079e-3be3-486a-b562-38a43ecd450a",
   "metadata": {},
   "outputs": [],
   "source": [
    "observations_piv.fillna(0, inplace=True)"
   ]
  },
  {
   "cell_type": "code",
   "execution_count": null,
   "id": "193a7a25-6f85-45f8-93ee-720a14053ca8",
   "metadata": {},
   "outputs": [],
   "source": [
    "observations_piv.head()"
   ]
  },
  {
   "cell_type": "markdown",
   "id": "60fe022c-ee3a-487f-aca4-55fb4db74d85",
   "metadata": {},
   "source": [
    "## Plotting og visualisering"
   ]
  },
  {
   "cell_type": "markdown",
   "id": "b5a67c72-1f21-4eaf-99ed-8c284b7c7427",
   "metadata": {},
   "source": [
    "- Plott antall observerte isbjørnar per år\n",
    "- Per år, plott antall isbjørnar og hvalrossar\n",
    "- Etter 2017, vis alle obervasjonar for isbjørnar i folium\n",
    "    - Rekn ut middels breddegrad og lengdegrad\n",
    "    - Plott alle observasjonar\n",
    "    - Legg til tidspunkt, koordinatar og antall individ i popup\n",
    "    - Lagre kart som til disk"
   ]
  },
  {
   "cell_type": "markdown",
   "id": "3da402ca-1eb8-4392-b3bf-9bd1d2edc6b2",
   "metadata": {},
   "source": [
    "### Antall isbjørnar per år"
   ]
  },
  {
   "cell_type": "code",
   "execution_count": null,
   "id": "a2305534-7d2c-4685-97c1-ae0d709cd573",
   "metadata": {},
   "outputs": [],
   "source": [
    "observations_isbjørn_grouped.plot(x=\"year\", secondary_y=[\"individuals_per_sighting\"])"
   ]
  },
  {
   "cell_type": "markdown",
   "id": "63f3284f-2387-45bd-9c74-3e05d4af8c4b",
   "metadata": {},
   "source": [
    "### Isbjørnar og kvalrossar"
   ]
  },
  {
   "cell_type": "code",
   "execution_count": null,
   "id": "c9fd1bf9-95ad-4375-ab40-e2e19c50ce9f",
   "metadata": {},
   "outputs": [],
   "source": [
    "observations_subplots = observations_piv[[\"Isbjørn\", \"Hvalross\"]]"
   ]
  },
  {
   "cell_type": "code",
   "execution_count": null,
   "id": "56aff6ac-8bb1-46fd-9460-aacb33e1231b",
   "metadata": {},
   "outputs": [],
   "source": [
    "observations_subplots.plot()"
   ]
  },
  {
   "cell_type": "markdown",
   "id": "1e7c8a08-b726-4fe2-a591-6c2bff4f5e5b",
   "metadata": {},
   "source": [
    "### Folium og kart"
   ]
  },
  {
   "cell_type": "code",
   "execution_count": null,
   "id": "fe8e346c-ae61-4954-81c2-d058278f81a3",
   "metadata": {},
   "outputs": [],
   "source": [
    "mean_latitude = observations_isbjørn[\"decimalLatitude\"].mean()\n",
    "mean_latitude"
   ]
  },
  {
   "cell_type": "code",
   "execution_count": null,
   "id": "f7fbe0c2-f31f-4517-a061-d474213dc95d",
   "metadata": {},
   "outputs": [],
   "source": [
    "mean_longitude = observations_isbjørn[\"decimalLongitude\"].mean()\n",
    "mean_longitude"
   ]
  },
  {
   "cell_type": "code",
   "execution_count": null,
   "id": "0116e210-cbe9-4432-8957-f709ed92f681",
   "metadata": {},
   "outputs": [],
   "source": [
    "import folium\n",
    "\n",
    "m = folium.Map(\n",
    "    location=(mean_latitude, mean_longitude),\n",
    "    zoom_start=4.5\n",
    ")\n",
    "m"
   ]
  },
  {
   "cell_type": "code",
   "execution_count": null,
   "id": "e9d74fec-e747-4e07-b69f-ed5aaf2d7d0e",
   "metadata": {},
   "outputs": [],
   "source": [
    "for idx, row in observations_isbjørn[\n",
    "    observations_isbjørn[\"year\"] >= 2017\n",
    "].iterrows():\n",
    "    lat = row[\"decimalLatitude\"]\n",
    "    lng = row[\"decimalLongitude\"]\n",
    "    folium.Marker(\n",
    "        location=[lat, lng],\n",
    "        popup=f\"\"\"\n",
    "        Timestamp: {row[\"timestamp\"]}\n",
    "        Individuals: {row[\"individualCount\"]}\n",
    "        Location: ({lat:.3f}, {lng:.3f})\n",
    "        \"\"\"\n",
    "    ).add_to(m)"
   ]
  },
  {
   "cell_type": "code",
   "execution_count": null,
   "id": "0cafa917-95f4-4212-b5fa-298b671f560c",
   "metadata": {},
   "outputs": [],
   "source": [
    "m"
   ]
  },
  {
   "cell_type": "code",
   "execution_count": null,
   "id": "69abeab8-9010-48d6-89b4-ec9533d77f3f",
   "metadata": {},
   "outputs": [],
   "source": [
    "m.save(\"data/map.html\")"
   ]
  }
 ],
 "metadata": {
  "kernelspec": {
   "display_name": "Python 3 (ipykernel)",
   "language": "python",
   "name": "python3"
  },
  "language_info": {
   "codemirror_mode": {
    "name": "ipython",
    "version": 3
   },
   "file_extension": ".py",
   "mimetype": "text/x-python",
   "name": "python",
   "nbconvert_exporter": "python",
   "pygments_lexer": "ipython3",
   "version": "3.11.6"
  }
 },
 "nbformat": 4,
 "nbformat_minor": 5
}
